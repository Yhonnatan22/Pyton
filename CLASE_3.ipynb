{
  "nbformat": 4,
  "nbformat_minor": 0,
  "metadata": {
    "colab": {
      "provenance": [],
      "toc_visible": true,
      "include_colab_link": true
    },
    "kernelspec": {
      "name": "python3",
      "display_name": "Python 3"
    },
    "language_info": {
      "name": "python"
    }
  },
  "cells": [
    {
      "cell_type": "markdown",
      "metadata": {
        "id": "view-in-github",
        "colab_type": "text"
      },
      "source": [
        "<a href=\"https://colab.research.google.com/github/Yhonnatan22/Pyton/blob/main/CLASE_3.ipynb\" target=\"_parent\"><img src=\"https://colab.research.google.com/assets/colab-badge.svg\" alt=\"Open In Colab\"/></a>"
      ]
    },
    {
      "cell_type": "code",
      "source": [
        "Ventas_semanales = [25000, 28000, 31000, 27500, 33000, 29000,\n",
        "35000, 32000, 30000, 28500, 26000, 33500]\n",
        "Maximo=Ventas_semanales.index(max(Ventas_semanales))+1\n",
        "Minimo=Ventas_semanales.index(min(Ventas_semanales))+1\n",
        "Suma_ventas=sum(Ventas_semanales)\n",
        "Cantidad_Elementos=len(Ventas_semanales)\n",
        "Promedio=int(Suma_ventas/Cantidad_Elementos)\n",
        "import numpy as np\n",
        "Desviacion_estandar = int(np.std(Ventas_semanales))\n",
        "\n",
        "\n",
        "info_ventas = {\n",
        "    \"Semana con mejor resultado\": Maximo,\n",
        "    \"Semana con peor resultado\": Minimo,\n",
        "    \"Desviacion_estandar\": Desviacion_estandar,\n",
        "    \"Promedio de Ventas\": Promedio,\n",
        "}\n",
        "\n",
        "print(f\"De las ventas Semanales: {Ventas_semanales}\")\n",
        "print(f\"Tenemos los siguientes datos: {info_ventas}\")"
      ],
      "metadata": {
        "id": "F2Ov3JbS8wd_",
        "outputId": "79e6d5bc-2be9-46f7-bd28-9a431dac5b1a",
        "colab": {
          "base_uri": "https://localhost:8080/"
        }
      },
      "execution_count": 73,
      "outputs": [
        {
          "output_type": "stream",
          "name": "stdout",
          "text": [
            "De las ventas Semanales: [25000, 28000, 31000, 27500, 33000, 29000, 35000, 32000, 30000, 28500, 26000, 33500]\n",
            "Tenemos los siguientes datos: {'Semana con mejor resultado': 7, 'Semana con peor resultado': 1, 'Desviacion_estandar': 2965, 'Promedio de Ventas': 29875}\n"
          ]
        }
      ]
    },
    {
      "cell_type": "code",
      "source": [
        "import random\n",
        "tupla_dados = (1, 2, 3, 4, 5, 6)\n",
        "Lanzamientos = int(input(\"Numero de Lanzamientos de ambos dados: \"))\n",
        "if Lanzamientos>0:\n",
        "  i = 0\n",
        "  while i < int(Lanzamientos):\n",
        "    Dados1=random.choice(tupla_dados)\n",
        "    Dados2=random.choice(tupla_dados)\n",
        "    print(\"Resultado del dado 1: \", Dados1)\n",
        "    print(\"Resultado del dado 2: \", Dados2)\n",
        "    print(f\"La Sumatoria de los dos dados es: \",Dados1+Dados2)\n",
        "    i = i + 1\n",
        "else: print(\"El numero de lanzamientos tiene ques ser mayor que 0\")\n"
      ],
      "metadata": {
        "id": "ZMmbDJ2kDtYY",
        "outputId": "d1831419-2cc6-47e4-9f3e-5cacdcffee01",
        "colab": {
          "base_uri": "https://localhost:8080/"
        }
      },
      "execution_count": 23,
      "outputs": [
        {
          "output_type": "stream",
          "name": "stdout",
          "text": [
            "Numero de Lanzamientos de ambos dados: 2\n",
            "Resultado del dado 1:  6\n",
            "Resultado del dado 2:  2\n",
            "La Sumatoria de los dos dados es:  8\n",
            "Resultado del dado 1:  4\n",
            "Resultado del dado 2:  2\n",
            "La Sumatoria de los dos dados es:  6\n"
          ]
        }
      ]
    },
    {
      "cell_type": "markdown",
      "source": [
        "### Diccionarios"
      ],
      "metadata": {
        "id": "fH-aLN1kD1zf"
      }
    },
    {
      "cell_type": "code",
      "source": [
        "palabra = input('Favor de ingresar una palabra: ')\n",
        "Diccionario = {palabra:len(palabra)}\n",
        "print(Diccionario)\n",
        "type(Diccionario)"
      ],
      "metadata": {
        "id": "OB5CPunpC0YY",
        "outputId": "57abda30-4873-48ec-efc2-66a0289c2da2",
        "colab": {
          "base_uri": "https://localhost:8080/"
        }
      },
      "execution_count": 40,
      "outputs": [
        {
          "output_type": "stream",
          "name": "stdout",
          "text": [
            "Favor de ingresar una palabra: Yhonnatan\n",
            "{'Yhonnatan': 9}\n"
          ]
        },
        {
          "output_type": "execute_result",
          "data": {
            "text/plain": [
              "dict"
            ]
          },
          "metadata": {},
          "execution_count": 40
        }
      ]
    },
    {
      "cell_type": "code",
      "source": [],
      "metadata": {
        "id": "qDNEt-rPLaTs"
      },
      "execution_count": null,
      "outputs": []
    },
    {
      "cell_type": "code",
      "execution_count": null,
      "metadata": {
        "id": "xAh8dThcDu-H"
      },
      "outputs": [],
      "source": [
        "# Almacena un conjunto de datos no ordenado\n",
        "# Son mutables o pueden ser modificadas\n",
        "# Pueden ser homogéneos o heterogéneos"
      ]
    },
    {
      "cell_type": "code",
      "source": [
        "dicc_0 = {}"
      ],
      "metadata": {
        "id": "VJ5SnQW4D3nm"
      },
      "execution_count": null,
      "outputs": []
    },
    {
      "cell_type": "code",
      "source": [
        "type(dicc_0)"
      ],
      "metadata": {
        "colab": {
          "base_uri": "https://localhost:8080/"
        },
        "id": "VxHz_a3EEaNU",
        "outputId": "aa465892-1c73-48ab-8886-5263f32ed69b"
      },
      "execution_count": null,
      "outputs": [
        {
          "output_type": "execute_result",
          "data": {
            "text/plain": [
              "dict"
            ]
          },
          "metadata": {},
          "execution_count": 3
        }
      ]
    },
    {
      "cell_type": "code",
      "source": [
        "# Vamos a encontrar => clave : elemento\n",
        "# Claves pueden ser numéricas o cadenas"
      ],
      "metadata": {
        "id": "cOIJe5_WEc6G"
      },
      "execution_count": null,
      "outputs": []
    },
    {
      "cell_type": "code",
      "source": [
        "# Diccionario homogéneo\n",
        "dicc_1 = {\"a\" : 1,\n",
        "          \"b\" : 2,\n",
        "          \"c\" : 3\n",
        "          }"
      ],
      "metadata": {
        "id": "da2Oid6CElOI"
      },
      "execution_count": null,
      "outputs": []
    },
    {
      "cell_type": "code",
      "source": [
        "type(dicc_1)"
      ],
      "metadata": {
        "colab": {
          "base_uri": "https://localhost:8080/"
        },
        "id": "B7e8xcknElXm",
        "outputId": "d0447253-4afd-42f5-a6d5-894db343042e"
      },
      "execution_count": null,
      "outputs": [
        {
          "output_type": "execute_result",
          "data": {
            "text/plain": [
              "dict"
            ]
          },
          "metadata": {},
          "execution_count": 6
        }
      ]
    },
    {
      "cell_type": "code",
      "source": [
        "# Diccionario \"dicc_2\"\n",
        "# Diccionario heterogéneo\n",
        "# Tiene dos claves que son cadenas\n",
        "# Tiene dos elementos de distinta naturaleza\n",
        "# Primer elemento es otro diccionario\n",
        "# Segundo elemento es una lista\n",
        "\n",
        "dicc_2 = {\"a\":{\"x\":100},\n",
        "          \"b\":[10,20,30]}"
      ],
      "metadata": {
        "id": "GEP4nFmUElqE"
      },
      "execution_count": null,
      "outputs": []
    },
    {
      "cell_type": "code",
      "source": [
        "type(dicc_2)"
      ],
      "metadata": {
        "colab": {
          "base_uri": "https://localhost:8080/"
        },
        "id": "W87tWCibGN8e",
        "outputId": "d7371a96-20b7-4aac-ca4a-b07d1197afe8"
      },
      "execution_count": null,
      "outputs": [
        {
          "output_type": "execute_result",
          "data": {
            "text/plain": [
              "dict"
            ]
          },
          "metadata": {},
          "execution_count": 8
        }
      ]
    },
    {
      "cell_type": "code",
      "source": [
        "# Diccionario con claves repetidas\n",
        "\n",
        "dicc_3 = {\"a\":100,\n",
        "          \"b\":200,\n",
        "          \"a\":300}\n",
        "\n",
        "dicc_3"
      ],
      "metadata": {
        "colab": {
          "base_uri": "https://localhost:8080/"
        },
        "id": "rkmealkHGPwB",
        "outputId": "dc39be3b-4b8c-4f75-fb1a-9f4fe0ebaa4e"
      },
      "execution_count": null,
      "outputs": [
        {
          "output_type": "execute_result",
          "data": {
            "text/plain": [
              "{'a': 300, 'b': 200}"
            ]
          },
          "metadata": {},
          "execution_count": 9
        }
      ]
    },
    {
      "cell_type": "code",
      "source": [
        "dicc_clase = {\"nombre\":\"David\",\n",
        "              \"apellido\":\"Allende\",\n",
        "              \"edad\":36,\n",
        "              \"profesion\":\"ds\"}"
      ],
      "metadata": {
        "id": "Ok9iMfIIG2y-"
      },
      "execution_count": null,
      "outputs": []
    },
    {
      "cell_type": "code",
      "source": [
        "type(dicc_clase)"
      ],
      "metadata": {
        "colab": {
          "base_uri": "https://localhost:8080/"
        },
        "id": "-2pperWOHzAG",
        "outputId": "7f9d7b92-39b0-4d61-8915-e3a2429be8c1"
      },
      "execution_count": null,
      "outputs": [
        {
          "output_type": "execute_result",
          "data": {
            "text/plain": [
              "dict"
            ]
          },
          "metadata": {},
          "execution_count": 11
        }
      ]
    },
    {
      "cell_type": "code",
      "source": [
        "dicc_4 = {1:100,\n",
        "          2:200,\n",
        "          3:300}\n",
        "\n",
        "type(dicc_4)"
      ],
      "metadata": {
        "colab": {
          "base_uri": "https://localhost:8080/"
        },
        "id": "ig2jAiC8H0f6",
        "outputId": "1ca8223e-e580-4f2f-8c44-9563704f6649"
      },
      "execution_count": null,
      "outputs": [
        {
          "output_type": "execute_result",
          "data": {
            "text/plain": [
              "dict"
            ]
          },
          "metadata": {},
          "execution_count": 12
        }
      ]
    },
    {
      "cell_type": "code",
      "source": [
        "dicc_4"
      ],
      "metadata": {
        "colab": {
          "base_uri": "https://localhost:8080/"
        },
        "id": "trzwF2bWIN6q",
        "outputId": "60f65851-3739-4f04-8b82-71b1a35969b6"
      },
      "execution_count": null,
      "outputs": [
        {
          "output_type": "execute_result",
          "data": {
            "text/plain": [
              "{1: 100, 2: 200, 3: 300}"
            ]
          },
          "metadata": {},
          "execution_count": 13
        }
      ]
    },
    {
      "cell_type": "code",
      "source": [
        "dicc_5 = {\"david\":10,\n",
        "          \"jose\":20,\n",
        "          \"carlos\":30,\n",
        "          \"david\":5\n",
        "          }\n",
        "\n",
        "type(dicc_5)"
      ],
      "metadata": {
        "colab": {
          "base_uri": "https://localhost:8080/"
        },
        "id": "jeLcUZ4DIPF8",
        "outputId": "edcedf1d-e421-44b7-dd5b-267a880267c7"
      },
      "execution_count": null,
      "outputs": [
        {
          "output_type": "execute_result",
          "data": {
            "text/plain": [
              "dict"
            ]
          },
          "metadata": {},
          "execution_count": 14
        }
      ]
    },
    {
      "cell_type": "code",
      "source": [
        "dicc_5"
      ],
      "metadata": {
        "colab": {
          "base_uri": "https://localhost:8080/"
        },
        "id": "anhQPxXgIjYI",
        "outputId": "788b7f3d-8485-4eb0-97cc-1d20875340b5"
      },
      "execution_count": null,
      "outputs": [
        {
          "output_type": "execute_result",
          "data": {
            "text/plain": [
              "{'david': 5, 'jose': 20, 'carlos': 30}"
            ]
          },
          "metadata": {},
          "execution_count": 15
        }
      ]
    },
    {
      "cell_type": "code",
      "source": [
        "%whos"
      ],
      "metadata": {
        "colab": {
          "base_uri": "https://localhost:8080/"
        },
        "id": "lhvOGdFDIkRP",
        "outputId": "3c58ad98-72e4-4355-c672-ebb30bbdea12"
      },
      "execution_count": null,
      "outputs": [
        {
          "output_type": "stream",
          "name": "stdout",
          "text": [
            "Variable     Type    Data/Info\n",
            "------------------------------\n",
            "dicc_0       dict    n=0\n",
            "dicc_1       dict    n=3\n",
            "dicc_2       dict    n=2\n",
            "dicc_3       dict    n=2\n",
            "dicc_4       dict    n=3\n",
            "dicc_5       dict    n=3\n",
            "dicc_clase   dict    n=4\n"
          ]
        }
      ]
    },
    {
      "cell_type": "markdown",
      "source": [
        "### Acceder a los elementos de un diccionario"
      ],
      "metadata": {
        "id": "2Pezbv3oJPO7"
      }
    },
    {
      "cell_type": "code",
      "source": [
        "dicc_4"
      ],
      "metadata": {
        "colab": {
          "base_uri": "https://localhost:8080/"
        },
        "id": "DIJcw_BKItHa",
        "outputId": "2b27b1df-b432-4b54-81b2-f211a917cfa6"
      },
      "execution_count": null,
      "outputs": [
        {
          "output_type": "execute_result",
          "data": {
            "text/plain": [
              "{1: 100, 2: 200, 3: 300}"
            ]
          },
          "metadata": {},
          "execution_count": 17
        }
      ]
    },
    {
      "cell_type": "code",
      "source": [
        "dicc_4[1]"
      ],
      "metadata": {
        "colab": {
          "base_uri": "https://localhost:8080/"
        },
        "id": "JR_2PmYNJVIa",
        "outputId": "b38f8fd5-ff9d-4e19-d9df-6812bd48b5b9"
      },
      "execution_count": null,
      "outputs": [
        {
          "output_type": "execute_result",
          "data": {
            "text/plain": [
              "100"
            ]
          },
          "metadata": {},
          "execution_count": 18
        }
      ]
    },
    {
      "cell_type": "code",
      "source": [
        "dicc_4[0]"
      ],
      "metadata": {
        "colab": {
          "base_uri": "https://localhost:8080/",
          "height": 141
        },
        "id": "p4LnUEjDJvEH",
        "outputId": "25d26ae9-2581-4c8f-f6a7-f626babab62d"
      },
      "execution_count": null,
      "outputs": [
        {
          "output_type": "error",
          "ename": "KeyError",
          "evalue": "0",
          "traceback": [
            "\u001b[0;31m---------------------------------------------------------------------------\u001b[0m",
            "\u001b[0;31mKeyError\u001b[0m                                  Traceback (most recent call last)",
            "\u001b[0;32m<ipython-input-20-cd43df18b8bd>\u001b[0m in \u001b[0;36m<cell line: 1>\u001b[0;34m()\u001b[0m\n\u001b[0;32m----> 1\u001b[0;31m \u001b[0mdicc_4\u001b[0m\u001b[0;34m[\u001b[0m\u001b[0;36m0\u001b[0m\u001b[0;34m]\u001b[0m\u001b[0;34m\u001b[0m\u001b[0;34m\u001b[0m\u001b[0m\n\u001b[0m",
            "\u001b[0;31mKeyError\u001b[0m: 0"
          ]
        }
      ]
    },
    {
      "cell_type": "code",
      "source": [
        "dicc_4[3]"
      ],
      "metadata": {
        "colab": {
          "base_uri": "https://localhost:8080/"
        },
        "id": "T0I3UqgbJ9pv",
        "outputId": "0e854ad9-2b66-4483-af5c-1269665e54ae"
      },
      "execution_count": null,
      "outputs": [
        {
          "output_type": "execute_result",
          "data": {
            "text/plain": [
              "300"
            ]
          },
          "metadata": {},
          "execution_count": 21
        }
      ]
    },
    {
      "cell_type": "code",
      "source": [
        "dicc_5"
      ],
      "metadata": {
        "colab": {
          "base_uri": "https://localhost:8080/"
        },
        "id": "J92qBtjZJzOF",
        "outputId": "8fb6bc1f-de24-4a2a-9c6d-1c3b4be8a3b5"
      },
      "execution_count": null,
      "outputs": [
        {
          "output_type": "execute_result",
          "data": {
            "text/plain": [
              "{'david': 5, 'jose': 20, 'carlos': 30}"
            ]
          },
          "metadata": {},
          "execution_count": 22
        }
      ]
    },
    {
      "cell_type": "code",
      "source": [
        "dicc_5[\"carlos\"]"
      ],
      "metadata": {
        "colab": {
          "base_uri": "https://localhost:8080/"
        },
        "id": "g8lP9nyrKHUl",
        "outputId": "2ad3ddbc-e103-4d95-848e-82c331d045f6"
      },
      "execution_count": null,
      "outputs": [
        {
          "output_type": "execute_result",
          "data": {
            "text/plain": [
              "30"
            ]
          },
          "metadata": {},
          "execution_count": 23
        }
      ]
    },
    {
      "cell_type": "code",
      "source": [
        "dicc_2"
      ],
      "metadata": {
        "colab": {
          "base_uri": "https://localhost:8080/"
        },
        "id": "DD0dL_djKYmW",
        "outputId": "7eb857e1-7929-46a3-c6f6-1a860acd91e1"
      },
      "execution_count": null,
      "outputs": [
        {
          "output_type": "execute_result",
          "data": {
            "text/plain": [
              "{'a': {'x': 100}, 'b': [10, 20, 30]}"
            ]
          },
          "metadata": {},
          "execution_count": 24
        }
      ]
    },
    {
      "cell_type": "code",
      "source": [
        "dicc_2[\"b\"]"
      ],
      "metadata": {
        "colab": {
          "base_uri": "https://localhost:8080/"
        },
        "id": "QsUf52kTKfC8",
        "outputId": "a9a40b62-0472-4104-c515-161dd4388ef3"
      },
      "execution_count": null,
      "outputs": [
        {
          "output_type": "execute_result",
          "data": {
            "text/plain": [
              "[10, 20, 30]"
            ]
          },
          "metadata": {},
          "execution_count": 25
        }
      ]
    },
    {
      "cell_type": "code",
      "source": [
        "type(dicc_2[\"b\"])"
      ],
      "metadata": {
        "colab": {
          "base_uri": "https://localhost:8080/"
        },
        "id": "YW-blzkiK35F",
        "outputId": "b058c712-ceb4-42bc-ddd1-6a296386f6d7"
      },
      "execution_count": null,
      "outputs": [
        {
          "output_type": "execute_result",
          "data": {
            "text/plain": [
              "list"
            ]
          },
          "metadata": {},
          "execution_count": 26
        }
      ]
    },
    {
      "cell_type": "code",
      "source": [
        "dicc_2[\"b\"][1]"
      ],
      "metadata": {
        "colab": {
          "base_uri": "https://localhost:8080/"
        },
        "id": "3daM9f2bK9Xw",
        "outputId": "05faf9fc-c4f7-4544-c2aa-078278571293"
      },
      "execution_count": null,
      "outputs": [
        {
          "output_type": "execute_result",
          "data": {
            "text/plain": [
              "20"
            ]
          },
          "metadata": {},
          "execution_count": 27
        }
      ]
    },
    {
      "cell_type": "code",
      "source": [
        "dicc_2[\"a\"]"
      ],
      "metadata": {
        "colab": {
          "base_uri": "https://localhost:8080/"
        },
        "id": "ITjP8Bj6LGvv",
        "outputId": "f5541249-1418-4cad-a330-cdad2e26dfb9"
      },
      "execution_count": null,
      "outputs": [
        {
          "output_type": "execute_result",
          "data": {
            "text/plain": [
              "{'x': 100}"
            ]
          },
          "metadata": {},
          "execution_count": 28
        }
      ]
    },
    {
      "cell_type": "code",
      "source": [
        "type(dicc_2[\"a\"])"
      ],
      "metadata": {
        "colab": {
          "base_uri": "https://localhost:8080/"
        },
        "id": "SSyqD_3lLOSZ",
        "outputId": "bccfd5c4-bc65-4033-9772-ed5e4827b104"
      },
      "execution_count": null,
      "outputs": [
        {
          "output_type": "execute_result",
          "data": {
            "text/plain": [
              "dict"
            ]
          },
          "metadata": {},
          "execution_count": 29
        }
      ]
    },
    {
      "cell_type": "code",
      "source": [
        "dicc_2[\"a\"]"
      ],
      "metadata": {
        "colab": {
          "base_uri": "https://localhost:8080/"
        },
        "id": "DmGKSk-x_dem",
        "outputId": "ad545364-1643-4b15-a132-dff20cf17499"
      },
      "execution_count": null,
      "outputs": [
        {
          "output_type": "execute_result",
          "data": {
            "text/plain": [
              "{'x': 100}"
            ]
          },
          "metadata": {},
          "execution_count": 43
        }
      ]
    },
    {
      "cell_type": "code",
      "source": [
        "dicc_2[\"a\"][\"x\"]"
      ],
      "metadata": {
        "colab": {
          "base_uri": "https://localhost:8080/"
        },
        "id": "A4ZfaPGxLR_0",
        "outputId": "14b8fe75-03a4-4039-dea2-390f0432ca3a"
      },
      "execution_count": null,
      "outputs": [
        {
          "output_type": "execute_result",
          "data": {
            "text/plain": [
              "100"
            ]
          },
          "metadata": {},
          "execution_count": 30
        }
      ]
    },
    {
      "cell_type": "markdown",
      "source": [
        "### Método items( )"
      ],
      "metadata": {
        "id": "KU9X40tqLsO9"
      }
    },
    {
      "cell_type": "code",
      "source": [
        "dicc_5"
      ],
      "metadata": {
        "colab": {
          "base_uri": "https://localhost:8080/"
        },
        "id": "M2Q1hBqCLXZI",
        "outputId": "435eef71-609d-4c6b-cf5b-a6da80c4463d"
      },
      "execution_count": null,
      "outputs": [
        {
          "output_type": "execute_result",
          "data": {
            "text/plain": [
              "{'david': 5, 'jose': 20, 'carlos': 30}"
            ]
          },
          "metadata": {},
          "execution_count": 44
        }
      ]
    },
    {
      "cell_type": "code",
      "source": [
        "dicc_5.items()"
      ],
      "metadata": {
        "colab": {
          "base_uri": "https://localhost:8080/"
        },
        "id": "TsTyuQ3tL1Z5",
        "outputId": "9baf5191-fa58-47bb-d1cb-6dbb3bd31cc0"
      },
      "execution_count": null,
      "outputs": [
        {
          "output_type": "execute_result",
          "data": {
            "text/plain": [
              "dict_items([('david', 5), ('jose', 20), ('carlos', 30)])"
            ]
          },
          "metadata": {},
          "execution_count": 45
        }
      ]
    },
    {
      "cell_type": "code",
      "source": [
        "list_0 = list(dicc_5.items())\n",
        "list_0"
      ],
      "metadata": {
        "colab": {
          "base_uri": "https://localhost:8080/"
        },
        "id": "l6RjgLLfMBDp",
        "outputId": "d0488d2e-7cf5-4bbf-f2a8-ab8801d004ff"
      },
      "execution_count": null,
      "outputs": [
        {
          "output_type": "execute_result",
          "data": {
            "text/plain": [
              "[('david', 5), ('jose', 20), ('carlos', 30)]"
            ]
          },
          "metadata": {},
          "execution_count": 33
        }
      ]
    },
    {
      "cell_type": "code",
      "source": [
        "list_0[0]"
      ],
      "metadata": {
        "colab": {
          "base_uri": "https://localhost:8080/"
        },
        "id": "1RS-GXjMNFxp",
        "outputId": "33a8151e-890f-41e1-b158-1977c3094f79"
      },
      "execution_count": null,
      "outputs": [
        {
          "output_type": "execute_result",
          "data": {
            "text/plain": [
              "('david', 5)"
            ]
          },
          "metadata": {},
          "execution_count": 34
        }
      ]
    },
    {
      "cell_type": "code",
      "source": [
        "dicc_clase"
      ],
      "metadata": {
        "colab": {
          "base_uri": "https://localhost:8080/"
        },
        "id": "O3zjhvtJNOSt",
        "outputId": "1214b3f9-2d70-41f9-c681-5e116b7def39"
      },
      "execution_count": null,
      "outputs": [
        {
          "output_type": "execute_result",
          "data": {
            "text/plain": [
              "{'nombre': 'David', 'apellido': 'Allende', 'edad': 36, 'profesion': 'ds'}"
            ]
          },
          "metadata": {},
          "execution_count": 46
        }
      ]
    },
    {
      "cell_type": "code",
      "source": [
        "dicc_clase.items()"
      ],
      "metadata": {
        "colab": {
          "base_uri": "https://localhost:8080/"
        },
        "id": "UOADp5XANkN8",
        "outputId": "2bd4869c-4dcb-44f8-e02d-6aeeb761b40c"
      },
      "execution_count": null,
      "outputs": [
        {
          "output_type": "execute_result",
          "data": {
            "text/plain": [
              "dict_items([('nombre', 'David'), ('apellido', 'Allende'), ('edad', 36), ('profesion', 'ds')])"
            ]
          },
          "metadata": {},
          "execution_count": 47
        }
      ]
    },
    {
      "cell_type": "code",
      "source": [
        "type(dicc_clase.items())"
      ],
      "metadata": {
        "colab": {
          "base_uri": "https://localhost:8080/"
        },
        "id": "YWclN6IMNuPe",
        "outputId": "22b8676c-1dde-4807-dfb4-dd33b9c2f436"
      },
      "execution_count": null,
      "outputs": [
        {
          "output_type": "execute_result",
          "data": {
            "text/plain": [
              "dict_items"
            ]
          },
          "metadata": {},
          "execution_count": 48
        }
      ]
    },
    {
      "cell_type": "code",
      "source": [
        "list(dicc_clase.items())"
      ],
      "metadata": {
        "colab": {
          "base_uri": "https://localhost:8080/"
        },
        "id": "76MN7tSdNm-7",
        "outputId": "e530cbc8-ba27-4331-aa86-31c5ab7a4b14"
      },
      "execution_count": null,
      "outputs": [
        {
          "output_type": "execute_result",
          "data": {
            "text/plain": [
              "[('nombre', 'David'),\n",
              " ('apellido', 'Allende'),\n",
              " ('edad', 36),\n",
              " ('profesion', 'ds')]"
            ]
          },
          "metadata": {},
          "execution_count": 49
        }
      ]
    },
    {
      "cell_type": "code",
      "source": [
        "tuple(dicc_clase.items())"
      ],
      "metadata": {
        "colab": {
          "base_uri": "https://localhost:8080/"
        },
        "id": "Fdb1F-TZNyT0",
        "outputId": "dff1c135-06a0-4f3a-9a52-f7c4486ac237"
      },
      "execution_count": null,
      "outputs": [
        {
          "output_type": "execute_result",
          "data": {
            "text/plain": [
              "(('nombre', 'David'),\n",
              " ('apellido', 'Allende'),\n",
              " ('edad', 36),\n",
              " ('profesion', 'ds'))"
            ]
          },
          "metadata": {},
          "execution_count": 50
        }
      ]
    },
    {
      "cell_type": "code",
      "source": [
        "xyz = {}"
      ],
      "metadata": {
        "id": "gp8B_10NDxnf"
      },
      "execution_count": null,
      "outputs": []
    },
    {
      "cell_type": "code",
      "source": [
        "type(xyz)"
      ],
      "metadata": {
        "colab": {
          "base_uri": "https://localhost:8080/"
        },
        "id": "L6_WVlwzD1vc",
        "outputId": "7190ee1f-bfab-445b-8ee1-dd120ff07720"
      },
      "execution_count": null,
      "outputs": [
        {
          "output_type": "execute_result",
          "data": {
            "text/plain": [
              "dict"
            ]
          },
          "metadata": {},
          "execution_count": 65
        }
      ]
    },
    {
      "cell_type": "code",
      "source": [
        "xzz = {1,2,3}"
      ],
      "metadata": {
        "id": "OlBkK6hqD5Ao"
      },
      "execution_count": null,
      "outputs": []
    },
    {
      "cell_type": "code",
      "source": [
        "type(xzz)"
      ],
      "metadata": {
        "colab": {
          "base_uri": "https://localhost:8080/"
        },
        "id": "Tdz6H1gcD-OG",
        "outputId": "b1e6d56a-317e-4af8-9366-6ad55a334f9a"
      },
      "execution_count": null,
      "outputs": [
        {
          "output_type": "execute_result",
          "data": {
            "text/plain": [
              "set"
            ]
          },
          "metadata": {},
          "execution_count": 67
        }
      ]
    },
    {
      "cell_type": "code",
      "source": [
        "dicc_2"
      ],
      "metadata": {
        "colab": {
          "base_uri": "https://localhost:8080/"
        },
        "id": "k5R9YuVxN2Cl",
        "outputId": "94e66b2b-455b-4073-8361-1aff2617ff48"
      },
      "execution_count": null,
      "outputs": [
        {
          "output_type": "execute_result",
          "data": {
            "text/plain": [
              "{'a': {'x': 100}, 'b': [10, 20, 30]}"
            ]
          },
          "metadata": {},
          "execution_count": 40
        }
      ]
    },
    {
      "cell_type": "code",
      "source": [
        "dicc_2.items()"
      ],
      "metadata": {
        "colab": {
          "base_uri": "https://localhost:8080/"
        },
        "id": "6zU3kv5-N8Ch",
        "outputId": "6c1bff31-1f4a-45c5-a79c-884c2321fe3f"
      },
      "execution_count": null,
      "outputs": [
        {
          "output_type": "execute_result",
          "data": {
            "text/plain": [
              "dict_items([('a', {'x': 100}), ('b', [10, 20, 30])])"
            ]
          },
          "metadata": {},
          "execution_count": 41
        }
      ]
    },
    {
      "cell_type": "code",
      "source": [
        "list(dicc_2.items())"
      ],
      "metadata": {
        "colab": {
          "base_uri": "https://localhost:8080/"
        },
        "id": "iS7wRFC4N_Or",
        "outputId": "3a31fcd4-1a9d-4cc5-c9c2-9c373a6fc42c"
      },
      "execution_count": null,
      "outputs": [
        {
          "output_type": "execute_result",
          "data": {
            "text/plain": [
              "[('a', {'x': 100}), ('b', [10, 20, 30])]"
            ]
          },
          "metadata": {},
          "execution_count": 42
        }
      ]
    },
    {
      "cell_type": "code",
      "source": [
        "list(dicc_2.items())"
      ],
      "metadata": {
        "colab": {
          "base_uri": "https://localhost:8080/"
        },
        "id": "G_X1fV1YB7i3",
        "outputId": "4d38191c-b9fe-4fc6-cf33-e8c92eff95e2"
      },
      "execution_count": null,
      "outputs": [
        {
          "output_type": "execute_result",
          "data": {
            "text/plain": [
              "[('a', {'x': 100}), ('b', [10, 20, 30])]"
            ]
          },
          "metadata": {},
          "execution_count": 55
        }
      ]
    },
    {
      "cell_type": "code",
      "source": [
        "list(dicc_2.items())[0]"
      ],
      "metadata": {
        "colab": {
          "base_uri": "https://localhost:8080/"
        },
        "id": "NE2rKdBaCCCj",
        "outputId": "c32a19c3-4b21-4252-f99d-e0650d27c028"
      },
      "execution_count": null,
      "outputs": [
        {
          "output_type": "execute_result",
          "data": {
            "text/plain": [
              "('a', {'x': 100})"
            ]
          },
          "metadata": {},
          "execution_count": 56
        }
      ]
    },
    {
      "cell_type": "code",
      "source": [
        "type(list(dicc_2.items())[0])"
      ],
      "metadata": {
        "colab": {
          "base_uri": "https://localhost:8080/"
        },
        "id": "U7FcoHr-CPN0",
        "outputId": "e271df9e-1d7c-49dc-cc55-7ce428feb778"
      },
      "execution_count": null,
      "outputs": [
        {
          "output_type": "execute_result",
          "data": {
            "text/plain": [
              "tuple"
            ]
          },
          "metadata": {},
          "execution_count": 57
        }
      ]
    },
    {
      "cell_type": "code",
      "source": [
        "list(dicc_2.items())[0][0]"
      ],
      "metadata": {
        "colab": {
          "base_uri": "https://localhost:8080/",
          "height": 35
        },
        "id": "D7J8ZhqbCWbG",
        "outputId": "345eac8c-46f8-4e61-8960-993bcb508bd7"
      },
      "execution_count": null,
      "outputs": [
        {
          "output_type": "execute_result",
          "data": {
            "text/plain": [
              "'a'"
            ],
            "application/vnd.google.colaboratory.intrinsic+json": {
              "type": "string"
            }
          },
          "metadata": {},
          "execution_count": 58
        }
      ]
    },
    {
      "cell_type": "code",
      "source": [
        "list(dicc_2.items())[0][0] = 'b'"
      ],
      "metadata": {
        "colab": {
          "base_uri": "https://localhost:8080/",
          "height": 141
        },
        "id": "rDeuED-dCqtq",
        "outputId": "34ab7177-bf6d-4c51-950b-a6b203c5ea6b"
      },
      "execution_count": null,
      "outputs": [
        {
          "output_type": "error",
          "ename": "TypeError",
          "evalue": "'tuple' object does not support item assignment",
          "traceback": [
            "\u001b[0;31m---------------------------------------------------------------------------\u001b[0m",
            "\u001b[0;31mTypeError\u001b[0m                                 Traceback (most recent call last)",
            "\u001b[0;32m<ipython-input-59-8010c7b2c27b>\u001b[0m in \u001b[0;36m<cell line: 1>\u001b[0;34m()\u001b[0m\n\u001b[0;32m----> 1\u001b[0;31m \u001b[0mlist\u001b[0m\u001b[0;34m(\u001b[0m\u001b[0mdicc_2\u001b[0m\u001b[0;34m.\u001b[0m\u001b[0mitems\u001b[0m\u001b[0;34m(\u001b[0m\u001b[0;34m)\u001b[0m\u001b[0;34m)\u001b[0m\u001b[0;34m[\u001b[0m\u001b[0;36m0\u001b[0m\u001b[0;34m]\u001b[0m\u001b[0;34m[\u001b[0m\u001b[0;36m0\u001b[0m\u001b[0;34m]\u001b[0m \u001b[0;34m=\u001b[0m \u001b[0;34m'b'\u001b[0m\u001b[0;34m\u001b[0m\u001b[0;34m\u001b[0m\u001b[0m\n\u001b[0m",
            "\u001b[0;31mTypeError\u001b[0m: 'tuple' object does not support item assignment"
          ]
        }
      ]
    },
    {
      "cell_type": "code",
      "source": [
        "list(dicc_2.items())[0]"
      ],
      "metadata": {
        "colab": {
          "base_uri": "https://localhost:8080/"
        },
        "id": "2CwfIoaEC30k",
        "outputId": "7bdd3cc9-0adb-49e2-d65e-0af8f74aa76e"
      },
      "execution_count": null,
      "outputs": [
        {
          "output_type": "execute_result",
          "data": {
            "text/plain": [
              "('a', {'x': 100})"
            ]
          },
          "metadata": {},
          "execution_count": 60
        }
      ]
    },
    {
      "cell_type": "code",
      "source": [
        "list(list(dicc_2.items())[0])"
      ],
      "metadata": {
        "colab": {
          "base_uri": "https://localhost:8080/"
        },
        "id": "kLW0SxEhC96V",
        "outputId": "4cfd40c9-20bd-44b5-c172-6cf166dca486"
      },
      "execution_count": null,
      "outputs": [
        {
          "output_type": "execute_result",
          "data": {
            "text/plain": [
              "['a', {'x': 100}]"
            ]
          },
          "metadata": {},
          "execution_count": 61
        }
      ]
    },
    {
      "cell_type": "code",
      "source": [
        "list(list(dicc_2.items())[0])[0] = 'xx'"
      ],
      "metadata": {
        "id": "88T-kC4cDFzD"
      },
      "execution_count": null,
      "outputs": []
    },
    {
      "cell_type": "code",
      "source": [
        "lista_00 = list(list(dicc_2.items())[0])\n",
        "lista_00"
      ],
      "metadata": {
        "colab": {
          "base_uri": "https://localhost:8080/"
        },
        "id": "gA3v1VNHIRsu",
        "outputId": "91e117e9-4b3e-4cb4-d207-96f6cc9a39e1"
      },
      "execution_count": null,
      "outputs": [
        {
          "output_type": "execute_result",
          "data": {
            "text/plain": [
              "['a', {'x': 100}]"
            ]
          },
          "metadata": {},
          "execution_count": 70
        }
      ]
    },
    {
      "cell_type": "code",
      "source": [
        "lista_00[0] = 'xx'\n",
        "lista_00"
      ],
      "metadata": {
        "colab": {
          "base_uri": "https://localhost:8080/"
        },
        "id": "qQA7E5zfIdoV",
        "outputId": "0792d0fd-003a-403f-81ef-bf1e0fc2a2f9"
      },
      "execution_count": null,
      "outputs": [
        {
          "output_type": "execute_result",
          "data": {
            "text/plain": [
              "['xx', {'x': 100}]"
            ]
          },
          "metadata": {},
          "execution_count": 71
        }
      ]
    },
    {
      "cell_type": "code",
      "source": [
        "dicc_2"
      ],
      "metadata": {
        "colab": {
          "base_uri": "https://localhost:8080/"
        },
        "id": "GfQm5G6yDLPZ",
        "outputId": "d868e61a-74c3-4af4-e931-d1a1f936a9b8"
      },
      "execution_count": null,
      "outputs": [
        {
          "output_type": "execute_result",
          "data": {
            "text/plain": [
              "{'a': {'x': 100}, 'b': [10, 20, 30]}"
            ]
          },
          "metadata": {},
          "execution_count": 63
        }
      ]
    },
    {
      "cell_type": "code",
      "source": [
        "%whos"
      ],
      "metadata": {
        "colab": {
          "base_uri": "https://localhost:8080/"
        },
        "id": "95dbBqBGJSvw",
        "outputId": "3ff52758-3b49-4be5-b436-d82b2dbfbd04"
      },
      "execution_count": null,
      "outputs": [
        {
          "output_type": "stream",
          "name": "stdout",
          "text": [
            "Variable     Type    Data/Info\n",
            "------------------------------\n",
            "dicc_0       dict    n=0\n",
            "dicc_1       dict    n=3\n",
            "dicc_2       dict    n=2\n",
            "dicc_3       dict    n=0\n",
            "dicc_4       dict    n=3\n",
            "dicc_5       dict    n=3\n",
            "dicc_clase   dict    n=4\n",
            "list_0       list    n=3\n",
            "lista_00     list    n=2\n",
            "xyz          dict    n=0\n",
            "xzz          set     {1, 2, 3}\n"
          ]
        }
      ]
    },
    {
      "cell_type": "markdown",
      "source": [
        "### Método clear()"
      ],
      "metadata": {
        "id": "A5J3Bl_qBa-r"
      }
    },
    {
      "cell_type": "code",
      "source": [
        "%whos"
      ],
      "metadata": {
        "colab": {
          "base_uri": "https://localhost:8080/"
        },
        "id": "IgC3c1gVOGJJ",
        "outputId": "ac99407e-bad6-4f8a-abbd-104d40520759"
      },
      "execution_count": null,
      "outputs": [
        {
          "output_type": "stream",
          "name": "stdout",
          "text": [
            "Variable     Type    Data/Info\n",
            "------------------------------\n",
            "dicc_0       dict    n=0\n",
            "dicc_1       dict    n=3\n",
            "dicc_2       dict    n=2\n",
            "dicc_3       dict    n=2\n",
            "dicc_4       dict    n=3\n",
            "dicc_5       dict    n=3\n",
            "dicc_clase   dict    n=4\n",
            "list_0       list    n=3\n"
          ]
        }
      ]
    },
    {
      "cell_type": "code",
      "source": [
        "dicc_3"
      ],
      "metadata": {
        "colab": {
          "base_uri": "https://localhost:8080/"
        },
        "id": "tr4CV1_GBjTB",
        "outputId": "9dee192a-2672-4986-faeb-0e3d3016ed6e"
      },
      "execution_count": null,
      "outputs": [
        {
          "output_type": "execute_result",
          "data": {
            "text/plain": [
              "{'a': 300, 'b': 200}"
            ]
          },
          "metadata": {},
          "execution_count": 52
        }
      ]
    },
    {
      "cell_type": "code",
      "source": [
        "dicc_3.clear()"
      ],
      "metadata": {
        "id": "YZ0CIrl7Bnke"
      },
      "execution_count": null,
      "outputs": []
    },
    {
      "cell_type": "code",
      "source": [
        "dicc_3"
      ],
      "metadata": {
        "colab": {
          "base_uri": "https://localhost:8080/"
        },
        "id": "z76o5D_pBrwM",
        "outputId": "2c455f89-7363-4b2a-9ef9-508c07605973"
      },
      "execution_count": null,
      "outputs": [
        {
          "output_type": "execute_result",
          "data": {
            "text/plain": [
              "{}"
            ]
          },
          "metadata": {},
          "execution_count": 54
        }
      ]
    },
    {
      "cell_type": "markdown",
      "source": [
        "### Método keys()"
      ],
      "metadata": {
        "id": "YEHCKKdGK3vj"
      }
    },
    {
      "cell_type": "code",
      "source": [
        "dict_precios = {'detergente':70,\n",
        "                'arroz': 20,\n",
        "                'aceite': 10\n",
        "                }\n",
        "\n",
        "dict_precios"
      ],
      "metadata": {
        "colab": {
          "base_uri": "https://localhost:8080/"
        },
        "id": "ICnNe10tBuF_",
        "outputId": "f3e0338c-0541-4038-8924-3605ba77a0f3"
      },
      "execution_count": null,
      "outputs": [
        {
          "output_type": "execute_result",
          "data": {
            "text/plain": [
              "{'detergente': 70, 'arroz': 20, 'aceite': 10}"
            ]
          },
          "metadata": {},
          "execution_count": 74
        }
      ]
    },
    {
      "cell_type": "code",
      "source": [
        "type(dict_precios)"
      ],
      "metadata": {
        "colab": {
          "base_uri": "https://localhost:8080/"
        },
        "id": "HiHtFsubLNC8",
        "outputId": "8d5035c7-3207-4a6a-f4b6-2a6c7bd7a043"
      },
      "execution_count": null,
      "outputs": [
        {
          "output_type": "execute_result",
          "data": {
            "text/plain": [
              "dict"
            ]
          },
          "metadata": {},
          "execution_count": 75
        }
      ]
    },
    {
      "cell_type": "code",
      "source": [
        "list(dict_precios.keys())"
      ],
      "metadata": {
        "colab": {
          "base_uri": "https://localhost:8080/"
        },
        "id": "m6aaNjanLQio",
        "outputId": "314f9c3b-966c-45ea-dcee-49ad9a46c006"
      },
      "execution_count": null,
      "outputs": [
        {
          "output_type": "execute_result",
          "data": {
            "text/plain": [
              "['detergente', 'arroz', 'aceite']"
            ]
          },
          "metadata": {},
          "execution_count": 76
        }
      ]
    },
    {
      "cell_type": "markdown",
      "source": [
        "### Método values()"
      ],
      "metadata": {
        "id": "xr6jqWSUMbUs"
      }
    },
    {
      "cell_type": "code",
      "source": [
        "dict_precios"
      ],
      "metadata": {
        "colab": {
          "base_uri": "https://localhost:8080/"
        },
        "id": "vybubV70L-9c",
        "outputId": "5acacc7c-bb4c-49b7-a568-9e14007b1391"
      },
      "execution_count": null,
      "outputs": [
        {
          "output_type": "execute_result",
          "data": {
            "text/plain": [
              "{'detergente': 70, 'arroz': 20, 'aceite': 10}"
            ]
          },
          "metadata": {},
          "execution_count": 77
        }
      ]
    },
    {
      "cell_type": "code",
      "source": [
        "list(dict_precios.values())"
      ],
      "metadata": {
        "colab": {
          "base_uri": "https://localhost:8080/"
        },
        "id": "xnjpMsa1MfJY",
        "outputId": "4b093956-138e-45f9-dcac-1ac9675e0ab9"
      },
      "execution_count": null,
      "outputs": [
        {
          "output_type": "execute_result",
          "data": {
            "text/plain": [
              "[70, 20, 10]"
            ]
          },
          "metadata": {},
          "execution_count": 78
        }
      ]
    },
    {
      "cell_type": "code",
      "source": [
        "### Método items()"
      ],
      "metadata": {
        "id": "zrH_57fCMn0d"
      },
      "execution_count": null,
      "outputs": []
    },
    {
      "cell_type": "code",
      "source": [
        "list(dict_precios.items())"
      ],
      "metadata": {
        "colab": {
          "base_uri": "https://localhost:8080/"
        },
        "id": "uvfDWM1kNB56",
        "outputId": "58b8c8bb-0a4b-496d-9e89-a85e72df4e77"
      },
      "execution_count": null,
      "outputs": [
        {
          "output_type": "execute_result",
          "data": {
            "text/plain": [
              "[('detergente', 70), ('arroz', 20), ('aceite', 10)]"
            ]
          },
          "metadata": {},
          "execution_count": 80
        }
      ]
    },
    {
      "cell_type": "markdown",
      "source": [
        "### Ejercicio\n",
        "\n",
        "1. Crea un diccionario\n",
        "2. Accede a los pares de elementos del diccionario (Clave-elemento)\n",
        "3. Accede a las claves del diccionario\n",
        "4. Accede a los valores del diccionario"
      ],
      "metadata": {
        "id": "MRCzUNsZO8GK"
      }
    },
    {
      "cell_type": "code",
      "source": [
        "dic_jugadores = {\"Messi\":10,\n",
        "                 \"Iniesta\":8,\n",
        "                 \"Xavi\":6,\n",
        "                 \"Villa\":7,\n",
        "                 \"Neymar\":11\n",
        "                 }\n",
        "dic_jugadores"
      ],
      "metadata": {
        "colab": {
          "base_uri": "https://localhost:8080/"
        },
        "id": "GbKvSP2uO8yA",
        "outputId": "cb0dbba1-878e-42d7-dfe5-a01d84f4b949"
      },
      "execution_count": null,
      "outputs": [
        {
          "output_type": "execute_result",
          "data": {
            "text/plain": [
              "{'Messi': 10, 'Iniesta': 8, 'Xavi': 6, 'Villa': 7, 'Neymar': 11}"
            ]
          },
          "metadata": {},
          "execution_count": 81
        }
      ]
    },
    {
      "cell_type": "code",
      "source": [
        "#Mostrar\n",
        "print(f\"Las claves del diccionario: {list(dic_jugadores.keys())}\")"
      ],
      "metadata": {
        "colab": {
          "base_uri": "https://localhost:8080/"
        },
        "id": "lP2lDJL0NIt-",
        "outputId": "4e41b0a9-ae6a-4a13-ea53-81ef522449c0"
      },
      "execution_count": null,
      "outputs": [
        {
          "output_type": "stream",
          "name": "stdout",
          "text": [
            "Las claves del diccionario: ['Messi', 'Iniesta', 'Xavi', 'Villa', 'Neymar']\n"
          ]
        }
      ]
    },
    {
      "cell_type": "code",
      "source": [
        "print(f\"Las elementos del diccionario: {list(dic_jugadores.values())}\")"
      ],
      "metadata": {
        "colab": {
          "base_uri": "https://localhost:8080/"
        },
        "id": "mSRBz91pPYvc",
        "outputId": "cb3d60c8-052d-43f1-beaf-04376565b8f4"
      },
      "execution_count": null,
      "outputs": [
        {
          "output_type": "stream",
          "name": "stdout",
          "text": [
            "Las elementos del diccionario: [10, 8, 6, 7, 11]\n"
          ]
        }
      ]
    },
    {
      "cell_type": "code",
      "source": [
        "print(f\"Los pares clave-elemento del diccionario son:\\n {list(dic_jugadores.items())}\")"
      ],
      "metadata": {
        "colab": {
          "base_uri": "https://localhost:8080/"
        },
        "id": "j8H-viAiPoiS",
        "outputId": "7cf38500-2f72-45f5-b9e8-9ddd1519dfd8"
      },
      "execution_count": null,
      "outputs": [
        {
          "output_type": "stream",
          "name": "stdout",
          "text": [
            "Los pares clave-elemento del diccionario son:\n",
            " [('Messi', 10), ('Iniesta', 8), ('Xavi', 6), ('Villa', 7), ('Neymar', 11)]\n"
          ]
        }
      ]
    },
    {
      "cell_type": "markdown",
      "source": [
        "### Agregar/Modificar un valor dentro de un diccionario"
      ],
      "metadata": {
        "id": "Pox3ObRuUkrh"
      }
    },
    {
      "cell_type": "code",
      "source": [
        "dic_jugadores"
      ],
      "metadata": {
        "colab": {
          "base_uri": "https://localhost:8080/"
        },
        "id": "1JtQEQxWP2TD",
        "outputId": "43d94131-9aa5-48d7-a78a-2f200a46ef5b"
      },
      "execution_count": null,
      "outputs": [
        {
          "output_type": "execute_result",
          "data": {
            "text/plain": [
              "{'Messi': 10, 'Iniesta': 8, 'Xavi': 6, 'Villa': 7, 'Neymar': 11}"
            ]
          },
          "metadata": {},
          "execution_count": 86
        }
      ]
    },
    {
      "cell_type": "code",
      "source": [
        "dic_jugadores[\"Pedro\"] = 3"
      ],
      "metadata": {
        "id": "0RH9dexdU2oZ"
      },
      "execution_count": null,
      "outputs": []
    },
    {
      "cell_type": "code",
      "source": [
        "dic_jugadores"
      ],
      "metadata": {
        "colab": {
          "base_uri": "https://localhost:8080/"
        },
        "id": "BojLFI7GVMgN",
        "outputId": "2a9cfa6a-4b69-4d8f-d01a-d4b4190daf1d"
      },
      "execution_count": null,
      "outputs": [
        {
          "output_type": "execute_result",
          "data": {
            "text/plain": [
              "{'Messi': 10, 'Iniesta': 8, 'Xavi': 6, 'Villa': 7, 'Neymar': 11, 'Pedro': 3}"
            ]
          },
          "metadata": {},
          "execution_count": 88
        }
      ]
    },
    {
      "cell_type": "code",
      "source": [
        "dic_jugadores[\"Messi\"]"
      ],
      "metadata": {
        "colab": {
          "base_uri": "https://localhost:8080/"
        },
        "id": "Ymz8-8teVN8j",
        "outputId": "e45185c8-3c70-4f79-8aba-c802d7db1205"
      },
      "execution_count": null,
      "outputs": [
        {
          "output_type": "execute_result",
          "data": {
            "text/plain": [
              "10"
            ]
          },
          "metadata": {},
          "execution_count": 89
        }
      ]
    },
    {
      "cell_type": "code",
      "source": [
        "dic_jugadores[\"Messi\"] = 100"
      ],
      "metadata": {
        "id": "F4ApTsROVmnt"
      },
      "execution_count": null,
      "outputs": []
    },
    {
      "cell_type": "code",
      "source": [
        "dic_jugadores"
      ],
      "metadata": {
        "colab": {
          "base_uri": "https://localhost:8080/"
        },
        "id": "Im-lBg0NVsWc",
        "outputId": "f62879c3-28f0-4535-ff6d-1cac4cfefa6c"
      },
      "execution_count": null,
      "outputs": [
        {
          "output_type": "execute_result",
          "data": {
            "text/plain": [
              "{'Messi': 100, 'Iniesta': 8, 'Xavi': 6, 'Villa': 7, 'Neymar': 11, 'Pedro': 3}"
            ]
          },
          "metadata": {},
          "execution_count": 91
        }
      ]
    },
    {
      "cell_type": "markdown",
      "source": [
        "### Crear una copia del diccionario"
      ],
      "metadata": {
        "id": "xnPqX8xFV6L6"
      }
    },
    {
      "cell_type": "code",
      "source": [
        "%whos"
      ],
      "metadata": {
        "colab": {
          "base_uri": "https://localhost:8080/"
        },
        "id": "ELIJYxCkVvIL",
        "outputId": "dc03aa37-ad31-45e0-ee16-85046d4b51b6"
      },
      "execution_count": null,
      "outputs": [
        {
          "output_type": "stream",
          "name": "stdout",
          "text": [
            "Variable        Type    Data/Info\n",
            "---------------------------------\n",
            "dic_jugadores   dict    n=6\n",
            "dicc_0          dict    n=0\n",
            "dicc_1          dict    n=3\n",
            "dicc_2          dict    n=2\n",
            "dicc_3          dict    n=0\n",
            "dicc_4          dict    n=3\n",
            "dicc_5          dict    n=3\n",
            "dicc_clase      dict    n=4\n",
            "dict_precios    dict    n=3\n",
            "list_0          list    n=3\n",
            "lista_00        list    n=2\n",
            "xyz             dict    n=0\n",
            "xzz             set     {1, 2, 3}\n"
          ]
        }
      ]
    },
    {
      "cell_type": "code",
      "source": [
        "dict_precios"
      ],
      "metadata": {
        "colab": {
          "base_uri": "https://localhost:8080/"
        },
        "id": "mf2waJJzWCp5",
        "outputId": "4e5e951a-179d-4381-e39b-c1b7ab314192"
      },
      "execution_count": null,
      "outputs": [
        {
          "output_type": "execute_result",
          "data": {
            "text/plain": [
              "{'detergente': 70, 'arroz': 20, 'aceite': 10}"
            ]
          },
          "metadata": {},
          "execution_count": 93
        }
      ]
    },
    {
      "cell_type": "code",
      "source": [
        "dict_precios_ = dict_precios.copy()"
      ],
      "metadata": {
        "id": "0cekwCDUWFTp"
      },
      "execution_count": null,
      "outputs": []
    },
    {
      "cell_type": "code",
      "source": [
        "dict_precios_"
      ],
      "metadata": {
        "colab": {
          "base_uri": "https://localhost:8080/"
        },
        "id": "3Ets3HF9WOPc",
        "outputId": "566ee564-7526-41e7-ae71-70f1c8040de1"
      },
      "execution_count": null,
      "outputs": [
        {
          "output_type": "execute_result",
          "data": {
            "text/plain": [
              "{'detergente': 70, 'arroz': 20, 'aceite': 10}"
            ]
          },
          "metadata": {},
          "execution_count": 95
        }
      ]
    },
    {
      "cell_type": "markdown",
      "source": [
        "### Crear un diccionario a partir de una lista"
      ],
      "metadata": {
        "id": "D1m2dTQQWWAI"
      }
    },
    {
      "cell_type": "code",
      "source": [
        "lista_u = [\"pucp\", \"upc\", \"usil\", \"ulima\", \"utp\"]"
      ],
      "metadata": {
        "id": "g1UlLWI0WPmV"
      },
      "execution_count": null,
      "outputs": []
    },
    {
      "cell_type": "code",
      "source": [
        "type(lista_u)"
      ],
      "metadata": {
        "colab": {
          "base_uri": "https://localhost:8080/"
        },
        "id": "8UKQmzNYWsqE",
        "outputId": "187fe235-4276-405a-c66d-3275ac5f73f3"
      },
      "execution_count": null,
      "outputs": [
        {
          "output_type": "execute_result",
          "data": {
            "text/plain": [
              "list"
            ]
          },
          "metadata": {},
          "execution_count": 97
        }
      ]
    },
    {
      "cell_type": "code",
      "source": [
        "dicc_u = dict.fromkeys(lista_u)\n",
        "dicc_u"
      ],
      "metadata": {
        "colab": {
          "base_uri": "https://localhost:8080/"
        },
        "id": "m1t3c2iFWwxU",
        "outputId": "18a7da46-9115-43bf-d951-5e8022f998ef"
      },
      "execution_count": null,
      "outputs": [
        {
          "output_type": "execute_result",
          "data": {
            "text/plain": [
              "{'pucp': None, 'upc': None, 'usil': None, 'ulima': None, 'utp': None}"
            ]
          },
          "metadata": {},
          "execution_count": 98
        }
      ]
    },
    {
      "cell_type": "code",
      "source": [
        "dicc_u_2 = dict.fromkeys(lista_u, 1)\n",
        "dicc_u_2"
      ],
      "metadata": {
        "colab": {
          "base_uri": "https://localhost:8080/"
        },
        "id": "bGXrPvB8XBAF",
        "outputId": "2a9e3f3c-42d4-4022-9974-40a995c1f196"
      },
      "execution_count": null,
      "outputs": [
        {
          "output_type": "execute_result",
          "data": {
            "text/plain": [
              "{'pucp': 1, 'upc': 1, 'usil': 1, 'ulima': 1, 'utp': 1}"
            ]
          },
          "metadata": {},
          "execution_count": 99
        }
      ]
    },
    {
      "cell_type": "markdown",
      "source": [
        "### Método popitem()"
      ],
      "metadata": {
        "id": "kreJzD6eXub3"
      }
    },
    {
      "cell_type": "code",
      "source": [
        "dicc_u_2"
      ],
      "metadata": {
        "colab": {
          "base_uri": "https://localhost:8080/"
        },
        "id": "pr_l6XKCXc4v",
        "outputId": "e2298e61-63dc-4e47-ae71-0e165d76bb44"
      },
      "execution_count": null,
      "outputs": [
        {
          "output_type": "execute_result",
          "data": {
            "text/plain": [
              "{'pucp': 1, 'upc': 1, 'usil': 1, 'ulima': 1, 'utp': 1}"
            ]
          },
          "metadata": {},
          "execution_count": 100
        }
      ]
    },
    {
      "cell_type": "code",
      "source": [
        "val_e = dicc_u_2.popitem()\n",
        "val_e"
      ],
      "metadata": {
        "colab": {
          "base_uri": "https://localhost:8080/"
        },
        "id": "1IFF5q6SX2FU",
        "outputId": "ca7bc10a-378c-415c-a3e0-06fb9bc0d3c5"
      },
      "execution_count": null,
      "outputs": [
        {
          "output_type": "execute_result",
          "data": {
            "text/plain": [
              "('utp', 1)"
            ]
          },
          "metadata": {},
          "execution_count": 101
        }
      ]
    },
    {
      "cell_type": "code",
      "source": [
        "dicc_u_2"
      ],
      "metadata": {
        "colab": {
          "base_uri": "https://localhost:8080/"
        },
        "id": "WBMZzgFzYTx8",
        "outputId": "80315974-6f01-47b9-fe04-32929744271c"
      },
      "execution_count": null,
      "outputs": [
        {
          "output_type": "execute_result",
          "data": {
            "text/plain": [
              "{'pucp': 1, 'upc': 1, 'usil': 1, 'ulima': 1}"
            ]
          },
          "metadata": {},
          "execution_count": 102
        }
      ]
    },
    {
      "cell_type": "code",
      "source": [
        "type(val_e)"
      ],
      "metadata": {
        "colab": {
          "base_uri": "https://localhost:8080/"
        },
        "id": "0zDaZzXPYbEL",
        "outputId": "69b630c9-0527-44da-c4c7-bf3f6d795f86"
      },
      "execution_count": null,
      "outputs": [
        {
          "output_type": "execute_result",
          "data": {
            "text/plain": [
              "tuple"
            ]
          },
          "metadata": {},
          "execution_count": 103
        }
      ]
    },
    {
      "cell_type": "markdown",
      "source": [
        "### Método pop()"
      ],
      "metadata": {
        "id": "PM3F60i_Yz4w"
      }
    },
    {
      "cell_type": "code",
      "source": [
        "dicc_u_2"
      ],
      "metadata": {
        "colab": {
          "base_uri": "https://localhost:8080/"
        },
        "id": "tLtjtv6tYphP",
        "outputId": "044bce00-2ebd-46ee-e880-06d23f952131"
      },
      "execution_count": null,
      "outputs": [
        {
          "output_type": "execute_result",
          "data": {
            "text/plain": [
              "{'pucp': 1, 'upc': 1, 'usil': 1, 'ulima': 1}"
            ]
          },
          "metadata": {},
          "execution_count": 104
        }
      ]
    },
    {
      "cell_type": "code",
      "source": [
        "dicc_u_2.pop(\"utec\")"
      ],
      "metadata": {
        "colab": {
          "base_uri": "https://localhost:8080/",
          "height": 141
        },
        "id": "-A8jygUAY9Ir",
        "outputId": "a8dfc293-a125-49e3-cfdd-963ef7edbf90"
      },
      "execution_count": null,
      "outputs": [
        {
          "output_type": "error",
          "ename": "KeyError",
          "evalue": "'utec'",
          "traceback": [
            "\u001b[0;31m---------------------------------------------------------------------------\u001b[0m",
            "\u001b[0;31mKeyError\u001b[0m                                  Traceback (most recent call last)",
            "\u001b[0;32m<ipython-input-105-568574767b28>\u001b[0m in \u001b[0;36m<cell line: 1>\u001b[0;34m()\u001b[0m\n\u001b[0;32m----> 1\u001b[0;31m \u001b[0mdicc_u_2\u001b[0m\u001b[0;34m.\u001b[0m\u001b[0mpop\u001b[0m\u001b[0;34m(\u001b[0m\u001b[0;34m\"utec\"\u001b[0m\u001b[0;34m)\u001b[0m\u001b[0;34m\u001b[0m\u001b[0;34m\u001b[0m\u001b[0m\n\u001b[0m",
            "\u001b[0;31mKeyError\u001b[0m: 'utec'"
          ]
        }
      ]
    },
    {
      "cell_type": "code",
      "source": [
        "dicc_u_2.pop(\"utec\",999)"
      ],
      "metadata": {
        "colab": {
          "base_uri": "https://localhost:8080/"
        },
        "id": "AzkSnyowZJGz",
        "outputId": "cb3f9574-0ae6-40b2-d177-d8f96ae817e0"
      },
      "execution_count": null,
      "outputs": [
        {
          "output_type": "execute_result",
          "data": {
            "text/plain": [
              "999"
            ]
          },
          "metadata": {},
          "execution_count": 106
        }
      ]
    },
    {
      "cell_type": "code",
      "source": [
        "dicc_u_2.pop(\"utec\",\"No se encuentra\")"
      ],
      "metadata": {
        "colab": {
          "base_uri": "https://localhost:8080/",
          "height": 35
        },
        "id": "rvXqm0ccZTSp",
        "outputId": "c1c1a78a-3a6b-490c-e208-61b394c4280a"
      },
      "execution_count": null,
      "outputs": [
        {
          "output_type": "execute_result",
          "data": {
            "text/plain": [
              "'No se encuentra'"
            ],
            "application/vnd.google.colaboratory.intrinsic+json": {
              "type": "string"
            }
          },
          "metadata": {},
          "execution_count": 107
        }
      ]
    },
    {
      "cell_type": "code",
      "source": [
        "dicc_u_2.pop(\"usil\",999)"
      ],
      "metadata": {
        "colab": {
          "base_uri": "https://localhost:8080/"
        },
        "id": "QJWvJ333ZlyL",
        "outputId": "30da8465-9748-4913-d1f9-cd0a419e8bb2"
      },
      "execution_count": null,
      "outputs": [
        {
          "output_type": "execute_result",
          "data": {
            "text/plain": [
              "1"
            ]
          },
          "metadata": {},
          "execution_count": 108
        }
      ]
    },
    {
      "cell_type": "code",
      "source": [
        "dicc_u_2"
      ],
      "metadata": {
        "colab": {
          "base_uri": "https://localhost:8080/"
        },
        "id": "X28taiepZsyH",
        "outputId": "c28c8903-9fc2-4002-81dd-1b50da7d5639"
      },
      "execution_count": null,
      "outputs": [
        {
          "output_type": "execute_result",
          "data": {
            "text/plain": [
              "{'pucp': 1, 'upc': 1, 'ulima': 1}"
            ]
          },
          "metadata": {},
          "execution_count": 109
        }
      ]
    },
    {
      "cell_type": "markdown",
      "source": [
        "### Método setdefault()"
      ],
      "metadata": {
        "id": "fv_8llJRaEGh"
      }
    },
    {
      "cell_type": "code",
      "source": [
        "%whos"
      ],
      "metadata": {
        "colab": {
          "base_uri": "https://localhost:8080/"
        },
        "id": "fDqQ4DPVaCrg",
        "outputId": "0dc86327-91bc-4672-a912-607ceea75a0f"
      },
      "execution_count": null,
      "outputs": [
        {
          "output_type": "stream",
          "name": "stdout",
          "text": [
            "Variable        Type     Data/Info\n",
            "----------------------------------\n",
            "dic_jugadores   dict     n=6\n",
            "dicc_0          dict     n=0\n",
            "dicc_1          dict     n=3\n",
            "dicc_2          dict     n=2\n",
            "dicc_3          dict     n=0\n",
            "dicc_4          dict     n=3\n",
            "dicc_5          dict     n=3\n",
            "dicc_clase      dict     n=4\n",
            "dicc_u          dict     n=5\n",
            "dicc_u_2        dict     n=3\n",
            "dict_precios    dict     n=3\n",
            "dict_precios_   dict     n=3\n",
            "list_0          list     n=3\n",
            "lista_00        list     n=2\n",
            "lista_u         list     n=5\n",
            "val_e           tuple    n=2\n",
            "xyz             dict     n=0\n",
            "xzz             set      {1, 2, 3}\n"
          ]
        }
      ]
    },
    {
      "cell_type": "code",
      "source": [
        "dic_jugadores"
      ],
      "metadata": {
        "colab": {
          "base_uri": "https://localhost:8080/"
        },
        "id": "Mg-5XNetZwt8",
        "outputId": "57c1b9e8-5c48-425b-839c-320382168366"
      },
      "execution_count": null,
      "outputs": [
        {
          "output_type": "execute_result",
          "data": {
            "text/plain": [
              "{'Messi': 100, 'Iniesta': 8, 'Xavi': 6, 'Villa': 7, 'Neymar': 11, 'Pedro': 3}"
            ]
          },
          "metadata": {},
          "execution_count": 111
        }
      ]
    },
    {
      "cell_type": "code",
      "source": [
        "dic_t = {\"a\": 1, \"b\":2, \"c\":3, \"a\":1}\n",
        "dic_t"
      ],
      "metadata": {
        "colab": {
          "base_uri": "https://localhost:8080/"
        },
        "id": "W37L1GS6aV8x",
        "outputId": "cd3dbdd9-1b35-4fdb-faa9-c716fc7513e6"
      },
      "execution_count": null,
      "outputs": [
        {
          "output_type": "execute_result",
          "data": {
            "text/plain": [
              "{'a': 1, 'b': 2, 'c': 3}"
            ]
          },
          "metadata": {},
          "execution_count": 112
        }
      ]
    },
    {
      "cell_type": "code",
      "source": [
        "dic_t2 = {\"a\": 1, \"b\":2, \"c\":3, \"a\":10}\n",
        "dic_t2"
      ],
      "metadata": {
        "colab": {
          "base_uri": "https://localhost:8080/"
        },
        "id": "dX2mAfrCanYQ",
        "outputId": "353b4838-0c8a-4517-ab24-8b2a6ef701cf"
      },
      "execution_count": null,
      "outputs": [
        {
          "output_type": "execute_result",
          "data": {
            "text/plain": [
              "{'a': 10, 'b': 2, 'c': 3}"
            ]
          },
          "metadata": {},
          "execution_count": 113
        }
      ]
    },
    {
      "cell_type": "code",
      "source": [
        "dic_t3 = {\"a\": 100, \"b\":2, \"c\":3, \"a\":10}\n",
        "dic_t3"
      ],
      "metadata": {
        "colab": {
          "base_uri": "https://localhost:8080/"
        },
        "id": "XuFR2ZxqatM9",
        "outputId": "47f31100-f7fc-40d7-d301-c64a79d7af60"
      },
      "execution_count": null,
      "outputs": [
        {
          "output_type": "execute_result",
          "data": {
            "text/plain": [
              "{'a': 10, 'b': 2, 'c': 3}"
            ]
          },
          "metadata": {},
          "execution_count": 114
        }
      ]
    },
    {
      "cell_type": "code",
      "source": [
        "dic_t3.setdefault(\"a\",1)"
      ],
      "metadata": {
        "colab": {
          "base_uri": "https://localhost:8080/"
        },
        "id": "TLpx44_rayjw",
        "outputId": "880cb7c5-6e2e-4e66-dfaf-3996c03fc381"
      },
      "execution_count": null,
      "outputs": [
        {
          "output_type": "execute_result",
          "data": {
            "text/plain": [
              "10"
            ]
          },
          "metadata": {},
          "execution_count": 115
        }
      ]
    },
    {
      "cell_type": "code",
      "source": [
        "dic_t3"
      ],
      "metadata": {
        "colab": {
          "base_uri": "https://localhost:8080/"
        },
        "id": "M2B8f4tsbX8V",
        "outputId": "535e8eae-74b6-4b5c-fdfa-c90894298a9f"
      },
      "execution_count": null,
      "outputs": [
        {
          "output_type": "execute_result",
          "data": {
            "text/plain": [
              "{'a': 10, 'b': 2, 'c': 3}"
            ]
          },
          "metadata": {},
          "execution_count": 116
        }
      ]
    },
    {
      "cell_type": "code",
      "source": [
        "dic_t3.setdefault(\"d\")"
      ],
      "metadata": {
        "id": "cXLz8caeblby"
      },
      "execution_count": null,
      "outputs": []
    },
    {
      "cell_type": "code",
      "source": [
        "dic_t3"
      ],
      "metadata": {
        "colab": {
          "base_uri": "https://localhost:8080/"
        },
        "id": "Itpg4q9Jb0Uf",
        "outputId": "c2bdcb0c-c7dd-422e-cbf8-3c262f98ce35"
      },
      "execution_count": null,
      "outputs": [
        {
          "output_type": "execute_result",
          "data": {
            "text/plain": [
              "{'a': 10, 'b': 2, 'c': 3, 'd': None}"
            ]
          },
          "metadata": {},
          "execution_count": 118
        }
      ]
    },
    {
      "cell_type": "code",
      "source": [
        "dic_t3.setdefault(\"d\",1)"
      ],
      "metadata": {
        "id": "VOhrOk-1b2Cn"
      },
      "execution_count": null,
      "outputs": []
    },
    {
      "cell_type": "code",
      "source": [
        "dic_t3"
      ],
      "metadata": {
        "colab": {
          "base_uri": "https://localhost:8080/"
        },
        "id": "hBOhZc2Xb-8a",
        "outputId": "738419e6-d6b2-4e4b-8659-18e6f6fdf5dd"
      },
      "execution_count": null,
      "outputs": [
        {
          "output_type": "execute_result",
          "data": {
            "text/plain": [
              "{'a': 10, 'b': 2, 'c': 3, 'd': None}"
            ]
          },
          "metadata": {},
          "execution_count": 120
        }
      ]
    },
    {
      "cell_type": "code",
      "source": [
        "dic_t3.setdefault(\"e\",1)"
      ],
      "metadata": {
        "colab": {
          "base_uri": "https://localhost:8080/"
        },
        "id": "nHSgvh_5cA10",
        "outputId": "8f3cb774-2dc8-40d8-83a1-eb16afc382a9"
      },
      "execution_count": null,
      "outputs": [
        {
          "output_type": "execute_result",
          "data": {
            "text/plain": [
              "1"
            ]
          },
          "metadata": {},
          "execution_count": 121
        }
      ]
    },
    {
      "cell_type": "code",
      "source": [
        "dic_t3"
      ],
      "metadata": {
        "colab": {
          "base_uri": "https://localhost:8080/"
        },
        "id": "agh6TNUWcJVe",
        "outputId": "d6695894-69d2-4457-e888-adb3add8673d"
      },
      "execution_count": null,
      "outputs": [
        {
          "output_type": "execute_result",
          "data": {
            "text/plain": [
              "{'a': 10, 'b': 2, 'c': 3, 'd': None, 'e': 1}"
            ]
          },
          "metadata": {},
          "execution_count": 122
        }
      ]
    },
    {
      "cell_type": "code",
      "source": [
        "dic_t3.setdefault(\"e\",100)"
      ],
      "metadata": {
        "colab": {
          "base_uri": "https://localhost:8080/"
        },
        "id": "cD3SGWzIcLE3",
        "outputId": "f471c7f5-d7cc-4ccc-be9a-8080ff8df05e"
      },
      "execution_count": null,
      "outputs": [
        {
          "output_type": "execute_result",
          "data": {
            "text/plain": [
              "1"
            ]
          },
          "metadata": {},
          "execution_count": 123
        }
      ]
    },
    {
      "cell_type": "code",
      "source": [
        "dic_t3"
      ],
      "metadata": {
        "colab": {
          "base_uri": "https://localhost:8080/"
        },
        "id": "cx_CgQdpcR2D",
        "outputId": "d70fe8e5-e62e-44a8-d9cc-12d1b6ed46a7"
      },
      "execution_count": null,
      "outputs": [
        {
          "output_type": "execute_result",
          "data": {
            "text/plain": [
              "{'a': 10, 'b': 2, 'c': 3, 'd': None, 'e': 1}"
            ]
          },
          "metadata": {},
          "execution_count": 124
        }
      ]
    },
    {
      "cell_type": "markdown",
      "source": [
        "### Método update()"
      ],
      "metadata": {
        "id": "lKY9w_pGc98p"
      }
    },
    {
      "cell_type": "code",
      "source": [
        "dic_16 = {\"a\":10,\n",
        "          \"b\":15,\n",
        "          \"c\":20\n",
        "          }\n",
        "dic_16"
      ],
      "metadata": {
        "colab": {
          "base_uri": "https://localhost:8080/"
        },
        "id": "U-31vaSacUBO",
        "outputId": "3081b471-8685-420c-8baa-c958292c066b"
      },
      "execution_count": null,
      "outputs": [
        {
          "output_type": "execute_result",
          "data": {
            "text/plain": [
              "{'a': 10, 'b': 15, 'c': 20}"
            ]
          },
          "metadata": {},
          "execution_count": 125
        }
      ]
    },
    {
      "cell_type": "code",
      "source": [
        "type(dic_16)"
      ],
      "metadata": {
        "colab": {
          "base_uri": "https://localhost:8080/"
        },
        "id": "GvWl10mSdL-v",
        "outputId": "049436b9-d63a-49ce-e7a3-45c608b1d11a"
      },
      "execution_count": null,
      "outputs": [
        {
          "output_type": "execute_result",
          "data": {
            "text/plain": [
              "dict"
            ]
          },
          "metadata": {},
          "execution_count": 126
        }
      ]
    },
    {
      "cell_type": "code",
      "source": [
        "dic_16.update({\"d\":100})"
      ],
      "metadata": {
        "id": "VpmU0cA3dQgi"
      },
      "execution_count": null,
      "outputs": []
    },
    {
      "cell_type": "code",
      "source": [
        "dic_16"
      ],
      "metadata": {
        "colab": {
          "base_uri": "https://localhost:8080/"
        },
        "id": "M54DJ0OkdfA-",
        "outputId": "292fe49a-9af2-42cb-93c5-8b4a713ccc71"
      },
      "execution_count": null,
      "outputs": [
        {
          "output_type": "execute_result",
          "data": {
            "text/plain": [
              "{'a': 10, 'b': 15, 'c': 20, 'd': 100}"
            ]
          },
          "metadata": {},
          "execution_count": 128
        }
      ]
    },
    {
      "cell_type": "code",
      "source": [
        "dic_16.update({\"e\":100,\"f\":1000})\n",
        "dic_16"
      ],
      "metadata": {
        "colab": {
          "base_uri": "https://localhost:8080/"
        },
        "id": "vS84y86EdgBk",
        "outputId": "fb007ea3-a0f3-414e-a6e7-54249f61817c"
      },
      "execution_count": null,
      "outputs": [
        {
          "output_type": "execute_result",
          "data": {
            "text/plain": [
              "{'a': 10, 'b': 15, 'c': 20, 'd': 100, 'e': 100, 'f': 1000}"
            ]
          },
          "metadata": {},
          "execution_count": 129
        }
      ]
    },
    {
      "cell_type": "code",
      "source": [
        "dic_16.update({\"d\":1})\n",
        "dic_16"
      ],
      "metadata": {
        "colab": {
          "base_uri": "https://localhost:8080/"
        },
        "id": "VJPYIpsCdxEw",
        "outputId": "99580e7b-3c25-4ffc-a536-6d77b6b49607"
      },
      "execution_count": null,
      "outputs": [
        {
          "output_type": "execute_result",
          "data": {
            "text/plain": [
              "{'a': 10, 'b': 15, 'c': 20, 'd': 1, 'e': 100, 'f': 1000}"
            ]
          },
          "metadata": {},
          "execution_count": 130
        }
      ]
    },
    {
      "cell_type": "code",
      "source": [
        "dic_16.update({\"a\":100,\"f\":100})\n",
        "dic_16"
      ],
      "metadata": {
        "colab": {
          "base_uri": "https://localhost:8080/"
        },
        "id": "TsGQeTbXeDA4",
        "outputId": "9d8f5697-3299-424c-f63d-1d97ab4d3d42"
      },
      "execution_count": null,
      "outputs": [
        {
          "output_type": "execute_result",
          "data": {
            "text/plain": [
              "{'a': 100, 'b': 15, 'c': 20, 'd': 1, 'e': 100, 'f': 100}"
            ]
          },
          "metadata": {},
          "execution_count": 132
        }
      ]
    },
    {
      "cell_type": "markdown",
      "source": [
        "### Método get()"
      ],
      "metadata": {
        "id": "G6uWrxlqehQ6"
      }
    },
    {
      "cell_type": "code",
      "source": [
        "dic_16"
      ],
      "metadata": {
        "colab": {
          "base_uri": "https://localhost:8080/"
        },
        "id": "jV6HIz98eMRS",
        "outputId": "2a3fd9f9-412d-440f-a554-12cf57f0c067"
      },
      "execution_count": null,
      "outputs": [
        {
          "output_type": "execute_result",
          "data": {
            "text/plain": [
              "{'a': 100, 'b': 15, 'c': 20, 'd': 1, 'e': 100, 'f': 100}"
            ]
          },
          "metadata": {},
          "execution_count": 133
        }
      ]
    },
    {
      "cell_type": "code",
      "source": [
        "dic_16.get(\"c\")"
      ],
      "metadata": {
        "colab": {
          "base_uri": "https://localhost:8080/"
        },
        "id": "Y07rk_BUek3j",
        "outputId": "d09dbb1a-ccaf-4fef-a5e2-d215b88d3228"
      },
      "execution_count": null,
      "outputs": [
        {
          "output_type": "execute_result",
          "data": {
            "text/plain": [
              "20"
            ]
          },
          "metadata": {},
          "execution_count": 134
        }
      ]
    },
    {
      "cell_type": "code",
      "source": [
        "print(dic_16.get(\"z\"))"
      ],
      "metadata": {
        "colab": {
          "base_uri": "https://localhost:8080/"
        },
        "id": "YHsjrGeFeuI9",
        "outputId": "7684a142-a34b-411d-ca41-d905a73d6b87"
      },
      "execution_count": null,
      "outputs": [
        {
          "output_type": "stream",
          "name": "stdout",
          "text": [
            "None\n"
          ]
        }
      ]
    },
    {
      "cell_type": "code",
      "source": [
        "%whos"
      ],
      "metadata": {
        "colab": {
          "base_uri": "https://localhost:8080/"
        },
        "id": "KVotoZhye27x",
        "outputId": "084c5bf8-ca70-497e-9a0a-0b31667fa7f1"
      },
      "execution_count": null,
      "outputs": [
        {
          "output_type": "stream",
          "name": "stdout",
          "text": [
            "Variable        Type     Data/Info\n",
            "----------------------------------\n",
            "dic_16          dict     n=6\n",
            "dic_jugadores   dict     n=6\n",
            "dic_t           dict     n=3\n",
            "dic_t2          dict     n=3\n",
            "dic_t3          dict     n=5\n",
            "dicc_0          dict     n=0\n",
            "dicc_1          dict     n=3\n",
            "dicc_2          dict     n=2\n",
            "dicc_3          dict     n=0\n",
            "dicc_4          dict     n=3\n",
            "dicc_5          dict     n=3\n",
            "dicc_clase      dict     n=4\n",
            "dicc_u          dict     n=5\n",
            "dicc_u_2        dict     n=3\n",
            "dict_precios    dict     n=3\n",
            "dict_precios_   dict     n=3\n",
            "list_0          list     n=3\n",
            "lista_00        list     n=2\n",
            "lista_u         list     n=5\n",
            "val_e           tuple    n=2\n",
            "xyz             dict     n=0\n",
            "xzz             set      {1, 2, 3}\n"
          ]
        }
      ]
    },
    {
      "cell_type": "code",
      "source": [
        "dic_jugadores"
      ],
      "metadata": {
        "colab": {
          "base_uri": "https://localhost:8080/"
        },
        "id": "tloROXKvfG-4",
        "outputId": "2c34811c-1306-41f1-bf7a-fa18e7ff7f4a"
      },
      "execution_count": null,
      "outputs": [
        {
          "output_type": "execute_result",
          "data": {
            "text/plain": [
              "{'Messi': 100, 'Iniesta': 8, 'Xavi': 6, 'Villa': 7, 'Neymar': 11, 'Pedro': 3}"
            ]
          },
          "metadata": {},
          "execution_count": 138
        }
      ]
    },
    {
      "cell_type": "code",
      "source": [
        "for i in dic_jugadores:\n",
        "  print(f\"{i} : {dic_jugadores[i]}\")"
      ],
      "metadata": {
        "colab": {
          "base_uri": "https://localhost:8080/"
        },
        "id": "YTu0HNjyfK4l",
        "outputId": "05512385-1a35-4d6e-eb0a-acdd55225b2d"
      },
      "execution_count": null,
      "outputs": [
        {
          "output_type": "stream",
          "name": "stdout",
          "text": [
            "Messi : 100\n",
            "Iniesta : 8\n",
            "Xavi : 6\n",
            "Villa : 7\n",
            "Neymar : 11\n",
            "Pedro : 3\n"
          ]
        }
      ]
    },
    {
      "cell_type": "code",
      "source": [
        "dic_jugadores.items()"
      ],
      "metadata": {
        "colab": {
          "base_uri": "https://localhost:8080/"
        },
        "id": "rlkSrG4AfiRq",
        "outputId": "be40c8fe-c8ba-4f1a-efeb-bcf64ef33033"
      },
      "execution_count": null,
      "outputs": [
        {
          "output_type": "execute_result",
          "data": {
            "text/plain": [
              "dict_items([('Messi', 100), ('Iniesta', 8), ('Xavi', 6), ('Villa', 7), ('Neymar', 11), ('Pedro', 3)])"
            ]
          },
          "metadata": {},
          "execution_count": 140
        }
      ]
    },
    {
      "cell_type": "code",
      "source": [
        "for i,j in dic_jugadores.items():\n",
        "  print(f\"{i}: {j}\")"
      ],
      "metadata": {
        "colab": {
          "base_uri": "https://localhost:8080/"
        },
        "id": "OWkotnngfwBX",
        "outputId": "40683801-c63e-4c6c-c678-1232bcfbf040"
      },
      "execution_count": null,
      "outputs": [
        {
          "output_type": "stream",
          "name": "stdout",
          "text": [
            "Messi: 100\n",
            "Iniesta: 8\n",
            "Xavi: 6\n",
            "Villa: 7\n",
            "Neymar: 11\n",
            "Pedro: 3\n"
          ]
        }
      ]
    },
    {
      "cell_type": "code",
      "source": [],
      "metadata": {
        "id": "-0Lj38XRgB9t"
      },
      "execution_count": null,
      "outputs": []
    }
  ]
}